{
 "cells": [
  {
   "cell_type": "code",
   "execution_count": 21,
   "metadata": {},
   "outputs": [
    {
     "name": "stdout",
     "output_type": "stream",
     "text": [
      "Data loaded successfully:\n",
      "                             customerId   customerName  \\\n",
      "0  fbbe0690-0cd1-48eb-aece-f2744db6f895  Gregory Downs   \n",
      "1  fbbe0690-0cd1-48eb-aece-f2744db6f895  Gregory Downs   \n",
      "2  fbbe0690-0cd1-48eb-aece-f2744db6f895  Gregory Downs   \n",
      "3  fbbe0690-0cd1-48eb-aece-f2744db6f895  Gregory Downs   \n",
      "4  fbbe0690-0cd1-48eb-aece-f2744db6f895  Gregory Downs   \n",
      "\n",
      "                          transactionId transactionDate           sourceDate  \\\n",
      "0  7b3c8eee-3689-4cf8-b874-dfbe515d2eb7      2022-02-21  2022-02-22T21:20:48   \n",
      "1  3a05ea6b-acb8-4dfe-847e-470b6502bd54      2022-04-03  2022-04-03T19:00:23   \n",
      "2  b14a9ac9-c541-4ba9-8bf1-efbaab61d76f      2023-11-11  2023-11-13T04:00:20   \n",
      "3  cbd5d46e-09a4-47ce-ba77-6e4806976425      2019-09-12  2019-09-17T14:47:20   \n",
      "4  56c304bc-5563-4ec9-b445-fe2a3bf63d64      2021-08-02  2021-08-07T02:00:12   \n",
      "\n",
      "   merchantId  categoryId currency    amount  \\\n",
      "0          36          10      GBP  -1841.11   \n",
      "1          64           3      GBP    594.59   \n",
      "2          61           4      GBP   -656.25   \n",
      "3          86           8      GBP  -1329.37   \n",
      "4          64           3      GBP    247.15   \n",
      "\n",
      "                                 description  \n",
      "0                       Blair-White | Travel  \n",
      "1                    Sherman-Love | Shopping  \n",
      "2  Anderson, Thomas and Jimenez | Eating Out  \n",
      "3          Smith, Owens and Lewis | Finances  \n",
      "4                    Sherman-Love | Shopping  \n"
     ]
    }
   ],
   "source": [
    "import pandas as pd\n",
    "import json\n",
    "\n",
    "# Specify the file path to your JSON file\n",
    "json_file_path = r'D:\\open_banking_assessment\\input_data\\tech_assessment_transactions.json'\n",
    "\n",
    "# Read the JSON file into a pandas DataFrame\n",
    "try:\n",
    "    with open(json_file_path, 'r') as file:\n",
    "        data = json.load(file)\n",
    "        df = pd.json_normalize(data['transactions'])\n",
    "        # df = pd.read_json(file)\n",
    "        # If the JSON file contains nested data, you may need to specify the path to the nested elements\n",
    "        # For example, if the JSON file contains a list of dictionaries and you want to convert it to a DataFrame,\n",
    "        # you might use: data = pd.json_normalize(json.load(file))\n",
    "        print(\"Data loaded successfully:\")\n",
    "        print(df.head(5))\n",
    "except FileNotFoundError:\n",
    "    print(f\"File '{json_file_path}' not found.\")\n",
    "except Exception as e:\n",
    "    print(f\"An error occurred: {str(e)}\")\n"
   ]
  },
  {
   "cell_type": "code",
   "execution_count": 22,
   "metadata": {},
   "outputs": [
    {
     "name": "stdout",
     "output_type": "stream",
     "text": [
      "6869\n"
     ]
    }
   ],
   "source": [
    "# Check total records\n",
    "num_records = len(df)\n",
    "print(num_records)"
   ]
  },
  {
   "cell_type": "code",
   "execution_count": 23,
   "metadata": {},
   "outputs": [
    {
     "name": "stdout",
     "output_type": "stream",
     "text": [
      "Index(['customerId', 'customerName', 'transactionId', 'transactionDate',\n",
      "       'sourceDate', 'merchantId', 'categoryId', 'currency', 'amount',\n",
      "       'description'],\n",
      "      dtype='object')\n"
     ]
    }
   ],
   "source": [
    "# Review column names\n",
    "print(df.columns)"
   ]
  },
  {
   "cell_type": "code",
   "execution_count": 24,
   "metadata": {},
   "outputs": [
    {
     "name": "stdout",
     "output_type": "stream",
     "text": [
      "customerId         object\n",
      "customerName       object\n",
      "transactionId      object\n",
      "transactionDate    object\n",
      "sourceDate         object\n",
      "merchantId          int64\n",
      "categoryId          int64\n",
      "currency           object\n",
      "amount             object\n",
      "description        object\n",
      "dtype: object\n"
     ]
    }
   ],
   "source": [
    "#Check data types\n",
    "data_types = df.dtypes\n",
    "print(data_types)\n"
   ]
  },
  {
   "cell_type": "code",
   "execution_count": 42,
   "metadata": {},
   "outputs": [
    {
     "name": "stdout",
     "output_type": "stream",
     "text": [
      "customerId         0\n",
      "customerName       0\n",
      "transactionId      0\n",
      "transactionDate    0\n",
      "sourceDate         0\n",
      "merchantId         0\n",
      "categoryId         0\n",
      "currency           0\n",
      "amount             0\n",
      "description        0\n",
      "dtype: int64\n"
     ]
    }
   ],
   "source": [
    "#check missing values\n",
    "missing_values = df.isnull().sum()\n",
    "print(missing_values)"
   ]
  },
  {
   "cell_type": "code",
   "execution_count": 36,
   "metadata": {},
   "outputs": [
    {
     "name": "stdout",
     "output_type": "stream",
     "text": [
      "0\n"
     ]
    }
   ],
   "source": [
    "#Check number of duplicates\n",
    "duplicate_records = df.duplicated().sum()\n",
    "print(duplicate_records)"
   ]
  },
  {
   "cell_type": "code",
   "execution_count": 37,
   "metadata": {},
   "outputs": [
    {
     "name": "stdout",
     "output_type": "stream",
     "text": [
      "        merchantId   categoryId\n",
      "count  6869.000000  6869.000000\n",
      "mean     49.900713     6.139758\n",
      "std      27.945133     3.285392\n",
      "min       1.000000     1.000000\n",
      "25%      26.000000     3.000000\n",
      "50%      50.000000     6.000000\n",
      "75%      74.000000     9.000000\n",
      "max     101.000000    11.000000\n"
     ]
    }
   ],
   "source": [
    "#compute descriptive statistics\n",
    "descriptive_stats = df.describe() \n",
    "print(descriptive_stats)"
   ]
  },
  {
   "cell_type": "code",
   "execution_count": 54,
   "metadata": {},
   "outputs": [
    {
     "name": "stdout",
     "output_type": "stream",
     "text": [
      "{'customerId': array(['fbbe0690-0cd1-48eb-aece-f2744db6f895',\n",
      "       '86d5c245-3d2b-4f68-811b-0b669c85ce72',\n",
      "       '8d6ce07e-4252-470c-a5c8-3709bb342512',\n",
      "       'fb60e0c0-1cf5-40e8-b8d0-411f4568ba4c',\n",
      "       'cdd7313b-c60e-4f2a-bcb4-e92bc2238e57',\n",
      "       'a2220d82-f79b-49b2-a45a-c27ddc4226f7',\n",
      "       'd6b1713e-bde0-42cc-a1f3-20c848016c90',\n",
      "       '0b000de2-63f9-48e4-b9ef-36e2a797f804',\n",
      "       'd2504718-4c64-4164-9134-90237235dd8c',\n",
      "       'a62a6783-d908-4b5b-8b68-232bc422f60c',\n",
      "       '4f53db95-a8aa-47c1-9ee3-0197a2ca5791',\n",
      "       'b76cea0a-35e1-4703-a251-1ca4b440a3b5',\n",
      "       'bf6c10af-cfc8-465e-b624-6dd39c799a83',\n",
      "       '5adada47-ba86-42c7-a3d0-6c623ccf9df9',\n",
      "       'b4e5b5bb-658b-44dc-b892-9612286b5dc4',\n",
      "       '959ef36a-09f1-4733-85bd-33542ddb8791',\n",
      "       'e95a178a-bc64-432d-ada6-01336bbfecec',\n",
      "       '3d2ad8ed-460d-42e2-997c-176a42bdac9f',\n",
      "       'c982459e-8a2c-45ee-9dab-28e627bde5f6',\n",
      "       '51a19d13-a5f2-4705-87d3-e9a71f62b445',\n",
      "       'c791956b-e75a-432b-9001-7630777485e7',\n",
      "       '9e3361b2-91da-41b5-8fdf-b79cf90b77b1',\n",
      "       'f6b63bf5-2bf4-4301-a9c8-c6ab7e961f33',\n",
      "       '3be6f678-6e7f-49c0-84ff-7a54c274078d',\n",
      "       '4be3f96a-3ad3-4c63-82c5-35249b52862b',\n",
      "       '7cf08f69-a6dc-4d36-860b-1a35828f8366',\n",
      "       '38532446-7f94-4b2f-8294-9f7ee4453051',\n",
      "       '187f9365-f647-4184-bfbb-5667bc66a24f',\n",
      "       'a17c27dd-fca5-40c3-9194-0fb431fd2752'], dtype=object), 'customerName': array(['Gregory Downs', 'Cassidy Garcia', 'Lauren Knapp', 'Timothy Brown',\n",
      "       'Douglas Daniel', 'Marcus Miller', 'Nancy Miller', 'Tamara Jacobs',\n",
      "       'Judy Moore', 'Michael Ford', 'Marcus Berger', 'Matthew Cook',\n",
      "       'Shawn Thomas', 'Tyler Garcia', 'Justin Payne',\n",
      "       'Brittany Castillo', 'Randall Graham', 'Gregory Wheeler',\n",
      "       'Adam Nixon', 'Richard Douglas', 'Blake Smith', 'Stephen Ortiz',\n",
      "       'Jessica Hernandez', 'Tiffany Sanchez', 'Micheal Yang',\n",
      "       'Courtney Castillo', 'Ariel Hunt', 'Kelly Williamson',\n",
      "       'Krystal Francis'], dtype=object), 'transactionId': array(['7b3c8eee-3689-4cf8-b874-dfbe515d2eb7',\n",
      "       '3a05ea6b-acb8-4dfe-847e-470b6502bd54',\n",
      "       'b14a9ac9-c541-4ba9-8bf1-efbaab61d76f', ...,\n",
      "       '51210e40-e88e-48e4-930a-d2996b8c6c8c',\n",
      "       '2f723a71-3d2b-40f2-bd1d-8592b85c7f39',\n",
      "       '4e4dcab4-9789-4a11-ab5f-c66587a3bfa4'], dtype=object), 'transactionDate': array(['2022-02-21', '2022-04-03', '2023-11-11', ..., '2021-09-03',\n",
      "       '2019-02-28', '2022-09-10'], dtype=object), 'sourceDate': array(['2022-02-22T21:20:48', '2022-04-03T19:00:23',\n",
      "       '2023-11-13T04:00:20', ..., '2020-11-21T19:23:18',\n",
      "       '2021-10-07T08:22:23', '2020-11-25T10:30:53'], dtype=object), 'currency': array(['GBP', 'EUR', 'JPY', 'INR', 'USD', 'JPN'], dtype=object), 'amount': array(['-1841.11', '594.59', '-656.25', ..., '383.12', '1344.55',\n",
      "       '-725.79'], dtype=object), 'description': array(['Blair-White | Travel', 'Sherman-Love | Shopping',\n",
      "       'Anderson, Thomas and Jimenez | Eating Out',\n",
      "       'Smith, Owens and Lewis | Finances', 'Casey Inc | Health & Beauty',\n",
      "       'Henderson and Sons | General', 'Palmer-Ward | Health & Beauty',\n",
      "       'Gray-Meyers | Groceries', 'Bradley-Robertson | General',\n",
      "       'Anderson Ltd | Travel', 'Martin-Bonilla | Entertainment',\n",
      "       'Smith LLC | Home & Family', 'Bennett Group | Transport',\n",
      "       'Evans and Sons | Entertainment',\n",
      "       'Steele, Myers and Gordon | Entertainment',\n",
      "       'Hayes, Moran and Hill | Finances', 'Grimes-Payne | Eating Out',\n",
      "       'Brady Inc | Charity', 'Hubbard-Nichols | Charity',\n",
      "       'Nguyen and Sons | General',\n",
      "       'Hester, Smith and Lindsey | Entertainment',\n",
      "       'Jacobs-Welch | Entertainment', 'Taylor Group | Health & Beauty',\n",
      "       'Jones Group | Finances', 'Johnson PLC | Groceries',\n",
      "       'Williams LLC | Transport', 'Perkins-Bennett | Charity',\n",
      "       'Roberts, Estrada and Brown | Groceries',\n",
      "       'Ellison-Morales | Travel', 'Moore and Sons | Groceries',\n",
      "       'Randall, Torres and Murphy | Charity',\n",
      "       'Sanchez, Heath and Marsh | Groceries', 'Lewis-Moore | Eating Out',\n",
      "       'Ford, Cooper and Shaw | Eating Out',\n",
      "       'Mcdonald, Ortiz and Marshall | Groceries',\n",
      "       'Brown-Hamilton | Shopping', 'Parker-Carr | Home & Family',\n",
      "       'Reyes, Molina and Hawkins | General',\n",
      "       'Pennington-White | Health & Beauty', 'Garcia-Coleman | General',\n",
      "       'Sullivan, Black and Moore | Entertainment',\n",
      "       'Miller and Sons | Travel', 'Jordan-Soto | Shopping',\n",
      "       'Brown, Hughes and Brady | Transport', 'Johns and Sons | General',\n",
      "       'Mclean, Haynes and Burns | Charity', 'Russo-Campbell | Finances',\n",
      "       'Dodson-Jordan | Home & Family',\n",
      "       'Mathis, Mullins and Edwards | Charity',\n",
      "       'Gilbert, Kelley and Day | Finances', 'Bryant PLC | Transport',\n",
      "       'Taylor PLC | Travel', 'Garcia LLC | Transport',\n",
      "       'Washington-Williams | General',\n",
      "       'Ferguson, Murphy and Ryan | Eating Out',\n",
      "       'Leblanc-Robinson | Home & Family', 'Lee PLC | Transport',\n",
      "       'Clark Group | Groceries', 'White Ltd | Travel',\n",
      "       'Bennett, Bowen and Collier | Charity',\n",
      "       'Simmons and Sons | General',\n",
      "       'Ramirez, Rosales and Martinez | Travel', 'Allen Inc | General',\n",
      "       'Lee-Parker | General', 'Gomez, Vaughn and Prince | Travel',\n",
      "       'Green Group | Health & Beauty', 'Barton LLC | Health & Beauty',\n",
      "       'Brown, Orozco and Jenkins | Entertainment',\n",
      "       'Moody, Owen and Page | Travel',\n",
      "       'Wilson, Ward and Moore | Home & Family',\n",
      "       'Woodward-Lucas | Health & Beauty', 'Mcmillan-Mason | Shopping',\n",
      "       'Hester and Sons | Eating Out', 'Kirk, Cruz and Fowler | Shopping',\n",
      "       'Mcdonald, White and Ramirez | Home & Family',\n",
      "       'Morales-Garcia | Transport', 'Horton-Page | Home & Family',\n",
      "       'Rivera, Jackson and Lester | Finances',\n",
      "       'Rivera, Mendoza and Bass | Finances', 'Miller-Novak | Shopping',\n",
      "       'Lopez, Kelly and Lee | Home & Family', 'Hensley-Scott | Finances',\n",
      "       'Horton, Cervantes and Thompson | Shopping',\n",
      "       'Riggs, Ortega and Clark | Groceries',\n",
      "       'Caldwell, Moore and Spencer | Shopping',\n",
      "       'Evans-Morgan | Finances', 'Parker, Dawson and Palmer | General',\n",
      "       'Peterson, Edwards and Alvarado | Eating Out',\n",
      "       'Harper, Wall and Lindsey | Transport', 'Cooke PLC | Charity',\n",
      "       'Hobbs-Perez | Shopping', 'Morales-Lang | Transport',\n",
      "       'Brennan, Rogers and Edwards | Finances',\n",
      "       'Castillo and Sons | Finances', 'Jones Inc | Transport',\n",
      "       'Fritz, Roberts and Olsen | General', 'Vega-Newton | Charity',\n",
      "       'Wallace, Gomez and Ruiz | Transport', '49837103 00-23-49',\n",
      "       '83479283 29-06-19', 'Refund', 'Thank-you',\n",
      "       '07384305943 | Shopping', 'Payment to friend',\n",
      "       'payment to David.Shepard@outlook.co.uk', '+44384305943 grooming',\n",
      "       'Ariel.Hunt@gmail.com savings', 'Ariel.Hunt@gmail.com pension',\n",
      "       'Payment for Car'], dtype=object)}\n"
     ]
    }
   ],
   "source": [
    "#Indentifies unique values in categorical columns\n",
    "unique_values = {col: df[col].unique() for col in df.select_dtypes(include=['object'])}\n",
    "print(unique_values)"
   ]
  },
  {
   "cell_type": "code",
   "execution_count": 39,
   "metadata": {},
   "outputs": [
    {
     "name": "stderr",
     "output_type": "stream",
     "text": [
      "C:\\Users\\olumi\\AppData\\Local\\Temp\\ipykernel_26960\\1568462917.py:2: FutureWarning: The default value of numeric_only in DataFrame.corr is deprecated. In a future version, it will default to False. Select only valid columns or specify the value of numeric_only to silence this warning.\n",
      "  correlation_matrix = df.corr()\n"
     ]
    }
   ],
   "source": [
    "#correlation analysis between columns\n",
    "correlation_matrix = df.corr()"
   ]
  },
  {
   "cell_type": "code",
   "execution_count": 51,
   "metadata": {},
   "outputs": [],
   "source": [
    "#check if a record is missing\n",
    "if df['customerId'].isnull().all():\n",
    "    print(f\"Record with customer_id is missing\")"
   ]
  },
  {
   "cell_type": "code",
   "execution_count": 52,
   "metadata": {},
   "outputs": [],
   "source": [
    "column_name = 'customerId'  # Example column name\n",
    "if df[column_name].isnull().any():\n",
    "    print(f\"Column '{column_name}' has null values\")"
   ]
  }
 ],
 "metadata": {
  "kernelspec": {
   "display_name": "Python 3",
   "language": "python",
   "name": "python3"
  },
  "language_info": {
   "codemirror_mode": {
    "name": "ipython",
    "version": 3
   },
   "file_extension": ".py",
   "mimetype": "text/x-python",
   "name": "python",
   "nbconvert_exporter": "python",
   "pygments_lexer": "ipython3",
   "version": "3.11.3"
  }
 },
 "nbformat": 4,
 "nbformat_minor": 2
}
